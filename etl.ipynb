{
 "cells": [
  {
   "cell_type": "markdown",
   "metadata": {},
   "source": [
    "# ETL Processes\n",
    "Use this notebook to develop the ETL process for each of your tables before completing the `etl.py` file to load the whole datasets."
   ]
  },
  {
   "cell_type": "code",
   "execution_count": 1,
   "metadata": {},
   "outputs": [],
   "source": [
    "import os\n",
    "import glob\n",
    "import psycopg2\n",
    "import pandas as pd\n",
    "from sql_queries import *"
   ]
  },
  {
   "cell_type": "code",
   "execution_count": 2,
   "metadata": {},
   "outputs": [],
   "source": [
    "conn = psycopg2.connect(\"host=127.0.0.1 dbname=sparkifydb user=postgres password=docker\")\n",
    "cur = conn.cursor()"
   ]
  },
  {
   "cell_type": "code",
   "execution_count": 3,
   "metadata": {},
   "outputs": [],
   "source": [
    "def get_files(filepath):\n",
    "    all_files = []\n",
    "    for root, dirs, files in os.walk(filepath):\n",
    "        files = glob.glob(os.path.join(root,'*.json'))\n",
    "        for f in files :\n",
    "            all_files.append(os.path.abspath(f))\n",
    "    \n",
    "    return all_files"
   ]
  },
  {
   "cell_type": "markdown",
   "metadata": {},
   "source": [
    "# Process `song_data`\n",
    "In this first part, you'll perform ETL on the first dataset, `song_data`, to create the `songs` and `artists` dimensional tables.\n",
    "\n",
    "Let's perform ETL on a single song file and load a single record into each table to start.\n",
    "- Use the `get_files` function provided above to get a list of all song JSON files in `data/song_data`\n",
    "- Select the first song in this list\n",
    "- Read the song file and view the data"
   ]
  },
  {
   "cell_type": "code",
   "execution_count": 4,
   "metadata": {},
   "outputs": [],
   "source": [
    "song_files = get_files(\"data/song_data\")"
   ]
  },
  {
   "cell_type": "code",
   "execution_count": 5,
   "metadata": {},
   "outputs": [],
   "source": [
    "filepath = song_files[0]"
   ]
  },
  {
   "cell_type": "code",
   "execution_count": 6,
   "metadata": {},
   "outputs": [
    {
     "data": {
      "text/plain": "   num_songs           artist_id  artist_latitude  artist_longitude  \\\n0          1  ARGSJW91187B9B1D6B         35.21962         -80.01955   \n\n  artist_location   artist_name             song_id            title  \\\n0  North Carolina  JennyAnyKind  SOQHXMF12AB0182363  Young Boy Blues   \n\n    duration  year  \n0  218.77506     0  ",
      "text/html": "<div>\n<style scoped>\n    .dataframe tbody tr th:only-of-type {\n        vertical-align: middle;\n    }\n\n    .dataframe tbody tr th {\n        vertical-align: top;\n    }\n\n    .dataframe thead th {\n        text-align: right;\n    }\n</style>\n<table border=\"1\" class=\"dataframe\">\n  <thead>\n    <tr style=\"text-align: right;\">\n      <th></th>\n      <th>num_songs</th>\n      <th>artist_id</th>\n      <th>artist_latitude</th>\n      <th>artist_longitude</th>\n      <th>artist_location</th>\n      <th>artist_name</th>\n      <th>song_id</th>\n      <th>title</th>\n      <th>duration</th>\n      <th>year</th>\n    </tr>\n  </thead>\n  <tbody>\n    <tr>\n      <th>0</th>\n      <td>1</td>\n      <td>ARGSJW91187B9B1D6B</td>\n      <td>35.21962</td>\n      <td>-80.01955</td>\n      <td>North Carolina</td>\n      <td>JennyAnyKind</td>\n      <td>SOQHXMF12AB0182363</td>\n      <td>Young Boy Blues</td>\n      <td>218.77506</td>\n      <td>0</td>\n    </tr>\n  </tbody>\n</table>\n</div>"
     },
     "execution_count": 6,
     "metadata": {},
     "output_type": "execute_result"
    }
   ],
   "source": [
    "df = pd.read_json(filepath, lines=True)\n",
    "df.head()"
   ]
  },
  {
   "cell_type": "markdown",
   "metadata": {},
   "source": [
    "## #1: `songs` Table\n",
    "#### Extract Data for Songs Table\n",
    "- Select columns for song ID, title, artist ID, year, and duration\n",
    "- Use `df.values` to select just the values from the dataframe\n",
    "- Index to select the first (only) record in the dataframe\n",
    "- Convert the array to a list and set it to `song_data`"
   ]
  },
  {
   "cell_type": "code",
   "execution_count": 7,
   "metadata": {},
   "outputs": [
    {
     "data": {
      "text/plain": "('SOQHXMF12AB0182363', 'Young Boy Blues', 'ARGSJW91187B9B1D6B', 0, 218.77506)"
     },
     "execution_count": 7,
     "metadata": {},
     "output_type": "execute_result"
    }
   ],
   "source": [
    "df.values[0].tolist()\n",
    "song_data = df[['song_id', 'title','artist_id', 'year', 'duration']].values[0].tolist()\n",
    "song_data = (song_data[0], song_data[1], song_data[2], song_data[3], song_data[4])\n",
    "song_data"
   ]
  },
  {
   "cell_type": "markdown",
   "metadata": {},
   "source": [
    "#### Insert Record into Song Table\n",
    "Implement the `song_table_insert` query in `sql_queries.py` and run the cell below to insert a record for this song into the `songs` table. Remember to run `create_tables.py` before running the cell below to ensure you've created/resetted the `songs` table in the sparkify database."
   ]
  },
  {
   "cell_type": "code",
   "execution_count": 8,
   "metadata": {},
   "outputs": [],
   "source": [
    "cur.execute(song_table_insert, song_data)\n",
    "conn.commit()"
   ]
  },
  {
   "cell_type": "markdown",
   "metadata": {},
   "source": [
    "Run `test.ipynb` to see if you've successfully added a record to this table."
   ]
  },
  {
   "cell_type": "markdown",
   "metadata": {},
   "source": [
    "## #2: `artists` Table\n",
    "#### Extract Data for Artists Table\n",
    "- Select columns for artist ID, name, location, latitude, and longitude\n",
    "- Use `df.values` to select just the values from the dataframe\n",
    "- Index to select the first (only) record in the dataframe\n",
    "- Convert the array to a list and set it to `artist_data`"
   ]
  },
  {
   "cell_type": "code",
   "execution_count": 9,
   "metadata": {},
   "outputs": [
    {
     "data": {
      "text/plain": "'\\n    insert into artists (artist_id, name, location, latitude, longitude)\\n        values (%s, %s, %s, %s, %s)\\n    ON CONFLICT (artist_id)\\n    DO NOTHING;\\n'"
     },
     "execution_count": 9,
     "metadata": {},
     "output_type": "execute_result"
    }
   ],
   "source": [
    "artist_data = df[['artist_id', 'artist_name', 'artist_location', 'artist_latitude', 'artist_longitude']].values[0].tolist()\n",
    "artist_data = (artist_data[0], artist_data[1], artist_data[2], artist_data[3], artist_data[4])\n",
    "artist_table_insert\n"
   ]
  },
  {
   "cell_type": "markdown",
   "metadata": {},
   "source": [
    "#### Insert Record into Artist Table\n",
    "Implement the `artist_table_insert` query in `sql_queries.py` and run the cell below to insert a record for this song's artist into the `artists` table. Remember to run `create_tables.py` before running the cell below to ensure you've created/resetted the `artists` table in the sparkify database."
   ]
  },
  {
   "cell_type": "code",
   "execution_count": 10,
   "metadata": {},
   "outputs": [],
   "source": [
    "cur.execute(artist_table_insert, artist_data)\n",
    "conn.commit()"
   ]
  },
  {
   "cell_type": "markdown",
   "metadata": {},
   "source": [
    "Run `test.ipynb` to see if you've successfully added a record to this table."
   ]
  },
  {
   "cell_type": "markdown",
   "metadata": {},
   "source": [
    "# Process `log_data`\n",
    "In this part, you'll perform ETL on the second dataset, `log_data`, to create the `time` and `users` dimensional tables, as well as the `songplays` fact table.\n",
    "\n",
    "Let's perform ETL on a single log file and load a single record into each table.\n",
    "- Use the `get_files` function provided above to get a list of all log JSON files in `data/log_data`\n",
    "- Select the first log file in this list\n",
    "- Read the log file and view the data"
   ]
  },
  {
   "cell_type": "code",
   "execution_count": 11,
   "metadata": {},
   "outputs": [],
   "source": [
    "log_files = get_files(\"data/log_data/\")"
   ]
  },
  {
   "cell_type": "code",
   "execution_count": 12,
   "metadata": {},
   "outputs": [
    {
     "data": {
      "text/plain": "'/home/andre/Codes/Udacity/sparkfy-relational-etl/data/log_data/2018/11/2018-11-27-events.json'"
     },
     "execution_count": 12,
     "metadata": {},
     "output_type": "execute_result"
    }
   ],
   "source": [
    "filepath = log_files[0]\n",
    "filepath"
   ]
  },
  {
   "cell_type": "code",
   "execution_count": 13,
   "metadata": {},
   "outputs": [
    {
     "data": {
      "text/plain": "                                              artist       auth firstName  \\\n0  Barry Tuckwell/Academy of St Martin-in-the-Fie...  Logged In  Mohammad   \n1                                       Jimi Hendrix  Logged In  Mohammad   \n2                                       Building 429  Logged In  Mohammad   \n3                                         The B-52's  Logged In    Gianna   \n4                                   Die Mooskirchner  Logged In    Gianna   \n\n  gender  itemInSession   lastName     length level  \\\n0      M              0  Rodriguez  277.15873  paid   \n1      M              1  Rodriguez  239.82975  paid   \n2      M              2  Rodriguez  300.61669  paid   \n3      F              0      Jones  321.54077  free   \n4      F              1      Jones  169.29914  free   \n\n                                  location method      page  registration  \\\n0  Sacramento--Roseville--Arden-Arcade, CA    PUT  NextSong  1.540512e+12   \n1  Sacramento--Roseville--Arden-Arcade, CA    PUT  NextSong  1.540512e+12   \n2  Sacramento--Roseville--Arden-Arcade, CA    PUT  NextSong  1.540512e+12   \n3    New York-Newark-Jersey City, NY-NJ-PA    PUT  NextSong  1.540870e+12   \n4    New York-Newark-Jersey City, NY-NJ-PA    PUT  NextSong  1.540870e+12   \n\n   sessionId                                               song  status  \\\n0        961  Horn Concerto No. 4 in E flat K495: II. Romanc...     200   \n1        961                            Woodstock Inprovisation     200   \n2        961                               Majesty (LP Version)     200   \n3        107                                         Love Shack     200   \n4        107                                  Frisch und g'sund     200   \n\n              ts                                          userAgent userId  \n0  1543279932796  \"Mozilla/5.0 (Macintosh; Intel Mac OS X 10_9_4...     88  \n1  1543280209796  \"Mozilla/5.0 (Macintosh; Intel Mac OS X 10_9_4...     88  \n2  1543280448796  \"Mozilla/5.0 (Macintosh; Intel Mac OS X 10_9_4...     88  \n3  1543282396796  \"Mozilla/5.0 (Macintosh; Intel Mac OS X 10_9_4...     38  \n4  1543282717796  \"Mozilla/5.0 (Macintosh; Intel Mac OS X 10_9_4...     38  ",
      "text/html": "<div>\n<style scoped>\n    .dataframe tbody tr th:only-of-type {\n        vertical-align: middle;\n    }\n\n    .dataframe tbody tr th {\n        vertical-align: top;\n    }\n\n    .dataframe thead th {\n        text-align: right;\n    }\n</style>\n<table border=\"1\" class=\"dataframe\">\n  <thead>\n    <tr style=\"text-align: right;\">\n      <th></th>\n      <th>artist</th>\n      <th>auth</th>\n      <th>firstName</th>\n      <th>gender</th>\n      <th>itemInSession</th>\n      <th>lastName</th>\n      <th>length</th>\n      <th>level</th>\n      <th>location</th>\n      <th>method</th>\n      <th>page</th>\n      <th>registration</th>\n      <th>sessionId</th>\n      <th>song</th>\n      <th>status</th>\n      <th>ts</th>\n      <th>userAgent</th>\n      <th>userId</th>\n    </tr>\n  </thead>\n  <tbody>\n    <tr>\n      <th>0</th>\n      <td>Barry Tuckwell/Academy of St Martin-in-the-Fie...</td>\n      <td>Logged In</td>\n      <td>Mohammad</td>\n      <td>M</td>\n      <td>0</td>\n      <td>Rodriguez</td>\n      <td>277.15873</td>\n      <td>paid</td>\n      <td>Sacramento--Roseville--Arden-Arcade, CA</td>\n      <td>PUT</td>\n      <td>NextSong</td>\n      <td>1.540512e+12</td>\n      <td>961</td>\n      <td>Horn Concerto No. 4 in E flat K495: II. Romanc...</td>\n      <td>200</td>\n      <td>1543279932796</td>\n      <td>\"Mozilla/5.0 (Macintosh; Intel Mac OS X 10_9_4...</td>\n      <td>88</td>\n    </tr>\n    <tr>\n      <th>1</th>\n      <td>Jimi Hendrix</td>\n      <td>Logged In</td>\n      <td>Mohammad</td>\n      <td>M</td>\n      <td>1</td>\n      <td>Rodriguez</td>\n      <td>239.82975</td>\n      <td>paid</td>\n      <td>Sacramento--Roseville--Arden-Arcade, CA</td>\n      <td>PUT</td>\n      <td>NextSong</td>\n      <td>1.540512e+12</td>\n      <td>961</td>\n      <td>Woodstock Inprovisation</td>\n      <td>200</td>\n      <td>1543280209796</td>\n      <td>\"Mozilla/5.0 (Macintosh; Intel Mac OS X 10_9_4...</td>\n      <td>88</td>\n    </tr>\n    <tr>\n      <th>2</th>\n      <td>Building 429</td>\n      <td>Logged In</td>\n      <td>Mohammad</td>\n      <td>M</td>\n      <td>2</td>\n      <td>Rodriguez</td>\n      <td>300.61669</td>\n      <td>paid</td>\n      <td>Sacramento--Roseville--Arden-Arcade, CA</td>\n      <td>PUT</td>\n      <td>NextSong</td>\n      <td>1.540512e+12</td>\n      <td>961</td>\n      <td>Majesty (LP Version)</td>\n      <td>200</td>\n      <td>1543280448796</td>\n      <td>\"Mozilla/5.0 (Macintosh; Intel Mac OS X 10_9_4...</td>\n      <td>88</td>\n    </tr>\n    <tr>\n      <th>3</th>\n      <td>The B-52's</td>\n      <td>Logged In</td>\n      <td>Gianna</td>\n      <td>F</td>\n      <td>0</td>\n      <td>Jones</td>\n      <td>321.54077</td>\n      <td>free</td>\n      <td>New York-Newark-Jersey City, NY-NJ-PA</td>\n      <td>PUT</td>\n      <td>NextSong</td>\n      <td>1.540870e+12</td>\n      <td>107</td>\n      <td>Love Shack</td>\n      <td>200</td>\n      <td>1543282396796</td>\n      <td>\"Mozilla/5.0 (Macintosh; Intel Mac OS X 10_9_4...</td>\n      <td>38</td>\n    </tr>\n    <tr>\n      <th>4</th>\n      <td>Die Mooskirchner</td>\n      <td>Logged In</td>\n      <td>Gianna</td>\n      <td>F</td>\n      <td>1</td>\n      <td>Jones</td>\n      <td>169.29914</td>\n      <td>free</td>\n      <td>New York-Newark-Jersey City, NY-NJ-PA</td>\n      <td>PUT</td>\n      <td>NextSong</td>\n      <td>1.540870e+12</td>\n      <td>107</td>\n      <td>Frisch und g'sund</td>\n      <td>200</td>\n      <td>1543282717796</td>\n      <td>\"Mozilla/5.0 (Macintosh; Intel Mac OS X 10_9_4...</td>\n      <td>38</td>\n    </tr>\n  </tbody>\n</table>\n</div>"
     },
     "execution_count": 13,
     "metadata": {},
     "output_type": "execute_result"
    }
   ],
   "source": [
    "df = pd.read_json(filepath, lines=True)\n",
    "df.head()"
   ]
  },
  {
   "cell_type": "markdown",
   "metadata": {},
   "source": [
    "## #3: `time` Table\n",
    "#### Extract Data for Time Table\n",
    "- Filter records by `NextSong` action\n",
    "- Convert the `ts` timestamp column to datetime\n",
    "  - Hint: the current timestamp is in milliseconds\n",
    "- Extract the timestamp, hour, day, week of year, month, year, and weekday from the `ts` column and set `time_data` to a list containing these values in order\n",
    "  - Hint: use pandas' [`dt` attribute](https://pandas.pydata.org/pandas-docs/stable/reference/api/pandas.Series.dt.html) to access easily datetimelike properties.\n",
    "- Specify labels for these columns and set to `column_labels`\n",
    "- Create a dataframe, `time_df,` containing the time data for this file by combining `column_labels` and `time_data` into a dictionary and converting this into a dataframe"
   ]
  },
  {
   "cell_type": "code",
   "execution_count": 14,
   "metadata": {},
   "outputs": [
    {
     "data": {
      "text/plain": "   index                                             artist       auth  \\\n0      0  Barry Tuckwell/Academy of St Martin-in-the-Fie...  Logged In   \n1      1                                       Jimi Hendrix  Logged In   \n2      2                                       Building 429  Logged In   \n3      3                                         The B-52's  Logged In   \n4      4                                   Die Mooskirchner  Logged In   \n\n  firstName gender  itemInSession   lastName     length level  \\\n0  Mohammad      M              0  Rodriguez  277.15873  paid   \n1  Mohammad      M              1  Rodriguez  239.82975  paid   \n2  Mohammad      M              2  Rodriguez  300.61669  paid   \n3    Gianna      F              0      Jones  321.54077  free   \n4    Gianna      F              1      Jones  169.29914  free   \n\n                                  location method      page  registration  \\\n0  Sacramento--Roseville--Arden-Arcade, CA    PUT  NextSong  1.540512e+12   \n1  Sacramento--Roseville--Arden-Arcade, CA    PUT  NextSong  1.540512e+12   \n2  Sacramento--Roseville--Arden-Arcade, CA    PUT  NextSong  1.540512e+12   \n3    New York-Newark-Jersey City, NY-NJ-PA    PUT  NextSong  1.540870e+12   \n4    New York-Newark-Jersey City, NY-NJ-PA    PUT  NextSong  1.540870e+12   \n\n   sessionId                                               song  status  \\\n0        961  Horn Concerto No. 4 in E flat K495: II. Romanc...     200   \n1        961                            Woodstock Inprovisation     200   \n2        961                               Majesty (LP Version)     200   \n3        107                                         Love Shack     200   \n4        107                                  Frisch und g'sund     200   \n\n              ts                                          userAgent userId  \n0  1543279932796  \"Mozilla/5.0 (Macintosh; Intel Mac OS X 10_9_4...     88  \n1  1543280209796  \"Mozilla/5.0 (Macintosh; Intel Mac OS X 10_9_4...     88  \n2  1543280448796  \"Mozilla/5.0 (Macintosh; Intel Mac OS X 10_9_4...     88  \n3  1543282396796  \"Mozilla/5.0 (Macintosh; Intel Mac OS X 10_9_4...     38  \n4  1543282717796  \"Mozilla/5.0 (Macintosh; Intel Mac OS X 10_9_4...     38  ",
      "text/html": "<div>\n<style scoped>\n    .dataframe tbody tr th:only-of-type {\n        vertical-align: middle;\n    }\n\n    .dataframe tbody tr th {\n        vertical-align: top;\n    }\n\n    .dataframe thead th {\n        text-align: right;\n    }\n</style>\n<table border=\"1\" class=\"dataframe\">\n  <thead>\n    <tr style=\"text-align: right;\">\n      <th></th>\n      <th>index</th>\n      <th>artist</th>\n      <th>auth</th>\n      <th>firstName</th>\n      <th>gender</th>\n      <th>itemInSession</th>\n      <th>lastName</th>\n      <th>length</th>\n      <th>level</th>\n      <th>location</th>\n      <th>method</th>\n      <th>page</th>\n      <th>registration</th>\n      <th>sessionId</th>\n      <th>song</th>\n      <th>status</th>\n      <th>ts</th>\n      <th>userAgent</th>\n      <th>userId</th>\n    </tr>\n  </thead>\n  <tbody>\n    <tr>\n      <th>0</th>\n      <td>0</td>\n      <td>Barry Tuckwell/Academy of St Martin-in-the-Fie...</td>\n      <td>Logged In</td>\n      <td>Mohammad</td>\n      <td>M</td>\n      <td>0</td>\n      <td>Rodriguez</td>\n      <td>277.15873</td>\n      <td>paid</td>\n      <td>Sacramento--Roseville--Arden-Arcade, CA</td>\n      <td>PUT</td>\n      <td>NextSong</td>\n      <td>1.540512e+12</td>\n      <td>961</td>\n      <td>Horn Concerto No. 4 in E flat K495: II. Romanc...</td>\n      <td>200</td>\n      <td>1543279932796</td>\n      <td>\"Mozilla/5.0 (Macintosh; Intel Mac OS X 10_9_4...</td>\n      <td>88</td>\n    </tr>\n    <tr>\n      <th>1</th>\n      <td>1</td>\n      <td>Jimi Hendrix</td>\n      <td>Logged In</td>\n      <td>Mohammad</td>\n      <td>M</td>\n      <td>1</td>\n      <td>Rodriguez</td>\n      <td>239.82975</td>\n      <td>paid</td>\n      <td>Sacramento--Roseville--Arden-Arcade, CA</td>\n      <td>PUT</td>\n      <td>NextSong</td>\n      <td>1.540512e+12</td>\n      <td>961</td>\n      <td>Woodstock Inprovisation</td>\n      <td>200</td>\n      <td>1543280209796</td>\n      <td>\"Mozilla/5.0 (Macintosh; Intel Mac OS X 10_9_4...</td>\n      <td>88</td>\n    </tr>\n    <tr>\n      <th>2</th>\n      <td>2</td>\n      <td>Building 429</td>\n      <td>Logged In</td>\n      <td>Mohammad</td>\n      <td>M</td>\n      <td>2</td>\n      <td>Rodriguez</td>\n      <td>300.61669</td>\n      <td>paid</td>\n      <td>Sacramento--Roseville--Arden-Arcade, CA</td>\n      <td>PUT</td>\n      <td>NextSong</td>\n      <td>1.540512e+12</td>\n      <td>961</td>\n      <td>Majesty (LP Version)</td>\n      <td>200</td>\n      <td>1543280448796</td>\n      <td>\"Mozilla/5.0 (Macintosh; Intel Mac OS X 10_9_4...</td>\n      <td>88</td>\n    </tr>\n    <tr>\n      <th>3</th>\n      <td>3</td>\n      <td>The B-52's</td>\n      <td>Logged In</td>\n      <td>Gianna</td>\n      <td>F</td>\n      <td>0</td>\n      <td>Jones</td>\n      <td>321.54077</td>\n      <td>free</td>\n      <td>New York-Newark-Jersey City, NY-NJ-PA</td>\n      <td>PUT</td>\n      <td>NextSong</td>\n      <td>1.540870e+12</td>\n      <td>107</td>\n      <td>Love Shack</td>\n      <td>200</td>\n      <td>1543282396796</td>\n      <td>\"Mozilla/5.0 (Macintosh; Intel Mac OS X 10_9_4...</td>\n      <td>38</td>\n    </tr>\n    <tr>\n      <th>4</th>\n      <td>4</td>\n      <td>Die Mooskirchner</td>\n      <td>Logged In</td>\n      <td>Gianna</td>\n      <td>F</td>\n      <td>1</td>\n      <td>Jones</td>\n      <td>169.29914</td>\n      <td>free</td>\n      <td>New York-Newark-Jersey City, NY-NJ-PA</td>\n      <td>PUT</td>\n      <td>NextSong</td>\n      <td>1.540870e+12</td>\n      <td>107</td>\n      <td>Frisch und g'sund</td>\n      <td>200</td>\n      <td>1543282717796</td>\n      <td>\"Mozilla/5.0 (Macintosh; Intel Mac OS X 10_9_4...</td>\n      <td>38</td>\n    </tr>\n  </tbody>\n</table>\n</div>"
     },
     "execution_count": 14,
     "metadata": {},
     "output_type": "execute_result"
    }
   ],
   "source": [
    "df = df[df['page']==\"NextSong\"].reset_index()\n",
    "df.head()"
   ]
  },
  {
   "cell_type": "code",
   "execution_count": 15,
   "metadata": {},
   "outputs": [
    {
     "data": {
      "text/plain": "   index                                             artist       auth  \\\n0      0  Barry Tuckwell/Academy of St Martin-in-the-Fie...  Logged In   \n1      1                                       Jimi Hendrix  Logged In   \n2      2                                       Building 429  Logged In   \n3      3                                         The B-52's  Logged In   \n4      4                                   Die Mooskirchner  Logged In   \n\n  firstName gender  itemInSession   lastName     length level  \\\n0  Mohammad      M              0  Rodriguez  277.15873  paid   \n1  Mohammad      M              1  Rodriguez  239.82975  paid   \n2  Mohammad      M              2  Rodriguez  300.61669  paid   \n3    Gianna      F              0      Jones  321.54077  free   \n4    Gianna      F              1      Jones  169.29914  free   \n\n                                  location  ...      page  registration  \\\n0  Sacramento--Roseville--Arden-Arcade, CA  ...  NextSong  1.540512e+12   \n1  Sacramento--Roseville--Arden-Arcade, CA  ...  NextSong  1.540512e+12   \n2  Sacramento--Roseville--Arden-Arcade, CA  ...  NextSong  1.540512e+12   \n3    New York-Newark-Jersey City, NY-NJ-PA  ...  NextSong  1.540870e+12   \n4    New York-Newark-Jersey City, NY-NJ-PA  ...  NextSong  1.540870e+12   \n\n   sessionId                                               song status  \\\n0        961  Horn Concerto No. 4 in E flat K495: II. Romanc...    200   \n1        961                            Woodstock Inprovisation    200   \n2        961                               Majesty (LP Version)    200   \n3        107                                         Love Shack    200   \n4        107                                  Frisch und g'sund    200   \n\n              ts                                          userAgent userId  \\\n0  1543279932796  \"Mozilla/5.0 (Macintosh; Intel Mac OS X 10_9_4...     88   \n1  1543280209796  \"Mozilla/5.0 (Macintosh; Intel Mac OS X 10_9_4...     88   \n2  1543280448796  \"Mozilla/5.0 (Macintosh; Intel Mac OS X 10_9_4...     88   \n3  1543282396796  \"Mozilla/5.0 (Macintosh; Intel Mac OS X 10_9_4...     38   \n4  1543282717796  \"Mozilla/5.0 (Macintosh; Intel Mac OS X 10_9_4...     38   \n\n  week  week_day  \n0   48   Tuesday  \n1   48   Tuesday  \n2   48   Tuesday  \n3   48   Tuesday  \n4   48   Tuesday  \n\n[5 rows x 21 columns]",
      "text/html": "<div>\n<style scoped>\n    .dataframe tbody tr th:only-of-type {\n        vertical-align: middle;\n    }\n\n    .dataframe tbody tr th {\n        vertical-align: top;\n    }\n\n    .dataframe thead th {\n        text-align: right;\n    }\n</style>\n<table border=\"1\" class=\"dataframe\">\n  <thead>\n    <tr style=\"text-align: right;\">\n      <th></th>\n      <th>index</th>\n      <th>artist</th>\n      <th>auth</th>\n      <th>firstName</th>\n      <th>gender</th>\n      <th>itemInSession</th>\n      <th>lastName</th>\n      <th>length</th>\n      <th>level</th>\n      <th>location</th>\n      <th>...</th>\n      <th>page</th>\n      <th>registration</th>\n      <th>sessionId</th>\n      <th>song</th>\n      <th>status</th>\n      <th>ts</th>\n      <th>userAgent</th>\n      <th>userId</th>\n      <th>week</th>\n      <th>week_day</th>\n    </tr>\n  </thead>\n  <tbody>\n    <tr>\n      <th>0</th>\n      <td>0</td>\n      <td>Barry Tuckwell/Academy of St Martin-in-the-Fie...</td>\n      <td>Logged In</td>\n      <td>Mohammad</td>\n      <td>M</td>\n      <td>0</td>\n      <td>Rodriguez</td>\n      <td>277.15873</td>\n      <td>paid</td>\n      <td>Sacramento--Roseville--Arden-Arcade, CA</td>\n      <td>...</td>\n      <td>NextSong</td>\n      <td>1.540512e+12</td>\n      <td>961</td>\n      <td>Horn Concerto No. 4 in E flat K495: II. Romanc...</td>\n      <td>200</td>\n      <td>1543279932796</td>\n      <td>\"Mozilla/5.0 (Macintosh; Intel Mac OS X 10_9_4...</td>\n      <td>88</td>\n      <td>48</td>\n      <td>Tuesday</td>\n    </tr>\n    <tr>\n      <th>1</th>\n      <td>1</td>\n      <td>Jimi Hendrix</td>\n      <td>Logged In</td>\n      <td>Mohammad</td>\n      <td>M</td>\n      <td>1</td>\n      <td>Rodriguez</td>\n      <td>239.82975</td>\n      <td>paid</td>\n      <td>Sacramento--Roseville--Arden-Arcade, CA</td>\n      <td>...</td>\n      <td>NextSong</td>\n      <td>1.540512e+12</td>\n      <td>961</td>\n      <td>Woodstock Inprovisation</td>\n      <td>200</td>\n      <td>1543280209796</td>\n      <td>\"Mozilla/5.0 (Macintosh; Intel Mac OS X 10_9_4...</td>\n      <td>88</td>\n      <td>48</td>\n      <td>Tuesday</td>\n    </tr>\n    <tr>\n      <th>2</th>\n      <td>2</td>\n      <td>Building 429</td>\n      <td>Logged In</td>\n      <td>Mohammad</td>\n      <td>M</td>\n      <td>2</td>\n      <td>Rodriguez</td>\n      <td>300.61669</td>\n      <td>paid</td>\n      <td>Sacramento--Roseville--Arden-Arcade, CA</td>\n      <td>...</td>\n      <td>NextSong</td>\n      <td>1.540512e+12</td>\n      <td>961</td>\n      <td>Majesty (LP Version)</td>\n      <td>200</td>\n      <td>1543280448796</td>\n      <td>\"Mozilla/5.0 (Macintosh; Intel Mac OS X 10_9_4...</td>\n      <td>88</td>\n      <td>48</td>\n      <td>Tuesday</td>\n    </tr>\n    <tr>\n      <th>3</th>\n      <td>3</td>\n      <td>The B-52's</td>\n      <td>Logged In</td>\n      <td>Gianna</td>\n      <td>F</td>\n      <td>0</td>\n      <td>Jones</td>\n      <td>321.54077</td>\n      <td>free</td>\n      <td>New York-Newark-Jersey City, NY-NJ-PA</td>\n      <td>...</td>\n      <td>NextSong</td>\n      <td>1.540870e+12</td>\n      <td>107</td>\n      <td>Love Shack</td>\n      <td>200</td>\n      <td>1543282396796</td>\n      <td>\"Mozilla/5.0 (Macintosh; Intel Mac OS X 10_9_4...</td>\n      <td>38</td>\n      <td>48</td>\n      <td>Tuesday</td>\n    </tr>\n    <tr>\n      <th>4</th>\n      <td>4</td>\n      <td>Die Mooskirchner</td>\n      <td>Logged In</td>\n      <td>Gianna</td>\n      <td>F</td>\n      <td>1</td>\n      <td>Jones</td>\n      <td>169.29914</td>\n      <td>free</td>\n      <td>New York-Newark-Jersey City, NY-NJ-PA</td>\n      <td>...</td>\n      <td>NextSong</td>\n      <td>1.540870e+12</td>\n      <td>107</td>\n      <td>Frisch und g'sund</td>\n      <td>200</td>\n      <td>1543282717796</td>\n      <td>\"Mozilla/5.0 (Macintosh; Intel Mac OS X 10_9_4...</td>\n      <td>38</td>\n      <td>48</td>\n      <td>Tuesday</td>\n    </tr>\n  </tbody>\n</table>\n<p>5 rows × 21 columns</p>\n</div>"
     },
     "execution_count": 15,
     "metadata": {},
     "output_type": "execute_result"
    }
   ],
   "source": [
    "import datetime\n",
    "t = pd.to_datetime(df.ts, unit='ms')\n",
    "t.head()\n",
    "\n",
    "df['week'] = t.apply(lambda x: datetime.date(x.year, x.month, x.day).isocalendar()[1])\n",
    "df['week_day'] = t.apply(lambda x: datetime.date(x.year, x.month, x.day).strftime(\"%A\"))\n",
    "df.head()"
   ]
  },
  {
   "cell_type": "code",
   "execution_count": 16,
   "metadata": {},
   "outputs": [],
   "source": [
    "time_data = (t, t.dt.hour, t.dt.day, df.week, t.dt.month, t.dt.year, df.week_day)\n",
    "column_labels = ['start_time','hour','day','week','month', 'year','weekday']"
   ]
  },
  {
   "cell_type": "code",
   "execution_count": 17,
   "metadata": {},
   "outputs": [
    {
     "data": {
      "text/plain": "   index                                             artist       auth  \\\n0      0  Barry Tuckwell/Academy of St Martin-in-the-Fie...  Logged In   \n1      1                                       Jimi Hendrix  Logged In   \n2      2                                       Building 429  Logged In   \n3      3                                         The B-52's  Logged In   \n4      4                                   Die Mooskirchner  Logged In   \n\n  firstName gender  itemInSession   lastName     length level  \\\n0  Mohammad      M              0  Rodriguez  277.15873  paid   \n1  Mohammad      M              1  Rodriguez  239.82975  paid   \n2  Mohammad      M              2  Rodriguez  300.61669  paid   \n3    Gianna      F              0      Jones  321.54077  free   \n4    Gianna      F              1      Jones  169.29914  free   \n\n                                  location  ...  registration sessionId  \\\n0  Sacramento--Roseville--Arden-Arcade, CA  ...  1.540512e+12       961   \n1  Sacramento--Roseville--Arden-Arcade, CA  ...  1.540512e+12       961   \n2  Sacramento--Roseville--Arden-Arcade, CA  ...  1.540512e+12       961   \n3    New York-Newark-Jersey City, NY-NJ-PA  ...  1.540870e+12       107   \n4    New York-Newark-Jersey City, NY-NJ-PA  ...  1.540870e+12       107   \n\n                                                song  status             ts  \\\n0  Horn Concerto No. 4 in E flat K495: II. Romanc...     200  1543279932796   \n1                            Woodstock Inprovisation     200  1543280209796   \n2                               Majesty (LP Version)     200  1543280448796   \n3                                         Love Shack     200  1543282396796   \n4                                  Frisch und g'sund     200  1543282717796   \n\n                                           userAgent  userId week week_day  \\\n0  \"Mozilla/5.0 (Macintosh; Intel Mac OS X 10_9_4...      88   48  Tuesday   \n1  \"Mozilla/5.0 (Macintosh; Intel Mac OS X 10_9_4...      88   48  Tuesday   \n2  \"Mozilla/5.0 (Macintosh; Intel Mac OS X 10_9_4...      88   48  Tuesday   \n3  \"Mozilla/5.0 (Macintosh; Intel Mac OS X 10_9_4...      38   48  Tuesday   \n4  \"Mozilla/5.0 (Macintosh; Intel Mac OS X 10_9_4...      38   48  Tuesday   \n\n               start_time  \n0 2018-11-27 00:52:12.796  \n1 2018-11-27 00:56:49.796  \n2 2018-11-27 01:00:48.796  \n3 2018-11-27 01:33:16.796  \n4 2018-11-27 01:38:37.796  \n\n[5 rows x 22 columns]",
      "text/html": "<div>\n<style scoped>\n    .dataframe tbody tr th:only-of-type {\n        vertical-align: middle;\n    }\n\n    .dataframe tbody tr th {\n        vertical-align: top;\n    }\n\n    .dataframe thead th {\n        text-align: right;\n    }\n</style>\n<table border=\"1\" class=\"dataframe\">\n  <thead>\n    <tr style=\"text-align: right;\">\n      <th></th>\n      <th>index</th>\n      <th>artist</th>\n      <th>auth</th>\n      <th>firstName</th>\n      <th>gender</th>\n      <th>itemInSession</th>\n      <th>lastName</th>\n      <th>length</th>\n      <th>level</th>\n      <th>location</th>\n      <th>...</th>\n      <th>registration</th>\n      <th>sessionId</th>\n      <th>song</th>\n      <th>status</th>\n      <th>ts</th>\n      <th>userAgent</th>\n      <th>userId</th>\n      <th>week</th>\n      <th>week_day</th>\n      <th>start_time</th>\n    </tr>\n  </thead>\n  <tbody>\n    <tr>\n      <th>0</th>\n      <td>0</td>\n      <td>Barry Tuckwell/Academy of St Martin-in-the-Fie...</td>\n      <td>Logged In</td>\n      <td>Mohammad</td>\n      <td>M</td>\n      <td>0</td>\n      <td>Rodriguez</td>\n      <td>277.15873</td>\n      <td>paid</td>\n      <td>Sacramento--Roseville--Arden-Arcade, CA</td>\n      <td>...</td>\n      <td>1.540512e+12</td>\n      <td>961</td>\n      <td>Horn Concerto No. 4 in E flat K495: II. Romanc...</td>\n      <td>200</td>\n      <td>1543279932796</td>\n      <td>\"Mozilla/5.0 (Macintosh; Intel Mac OS X 10_9_4...</td>\n      <td>88</td>\n      <td>48</td>\n      <td>Tuesday</td>\n      <td>2018-11-27 00:52:12.796</td>\n    </tr>\n    <tr>\n      <th>1</th>\n      <td>1</td>\n      <td>Jimi Hendrix</td>\n      <td>Logged In</td>\n      <td>Mohammad</td>\n      <td>M</td>\n      <td>1</td>\n      <td>Rodriguez</td>\n      <td>239.82975</td>\n      <td>paid</td>\n      <td>Sacramento--Roseville--Arden-Arcade, CA</td>\n      <td>...</td>\n      <td>1.540512e+12</td>\n      <td>961</td>\n      <td>Woodstock Inprovisation</td>\n      <td>200</td>\n      <td>1543280209796</td>\n      <td>\"Mozilla/5.0 (Macintosh; Intel Mac OS X 10_9_4...</td>\n      <td>88</td>\n      <td>48</td>\n      <td>Tuesday</td>\n      <td>2018-11-27 00:56:49.796</td>\n    </tr>\n    <tr>\n      <th>2</th>\n      <td>2</td>\n      <td>Building 429</td>\n      <td>Logged In</td>\n      <td>Mohammad</td>\n      <td>M</td>\n      <td>2</td>\n      <td>Rodriguez</td>\n      <td>300.61669</td>\n      <td>paid</td>\n      <td>Sacramento--Roseville--Arden-Arcade, CA</td>\n      <td>...</td>\n      <td>1.540512e+12</td>\n      <td>961</td>\n      <td>Majesty (LP Version)</td>\n      <td>200</td>\n      <td>1543280448796</td>\n      <td>\"Mozilla/5.0 (Macintosh; Intel Mac OS X 10_9_4...</td>\n      <td>88</td>\n      <td>48</td>\n      <td>Tuesday</td>\n      <td>2018-11-27 01:00:48.796</td>\n    </tr>\n    <tr>\n      <th>3</th>\n      <td>3</td>\n      <td>The B-52's</td>\n      <td>Logged In</td>\n      <td>Gianna</td>\n      <td>F</td>\n      <td>0</td>\n      <td>Jones</td>\n      <td>321.54077</td>\n      <td>free</td>\n      <td>New York-Newark-Jersey City, NY-NJ-PA</td>\n      <td>...</td>\n      <td>1.540870e+12</td>\n      <td>107</td>\n      <td>Love Shack</td>\n      <td>200</td>\n      <td>1543282396796</td>\n      <td>\"Mozilla/5.0 (Macintosh; Intel Mac OS X 10_9_4...</td>\n      <td>38</td>\n      <td>48</td>\n      <td>Tuesday</td>\n      <td>2018-11-27 01:33:16.796</td>\n    </tr>\n    <tr>\n      <th>4</th>\n      <td>4</td>\n      <td>Die Mooskirchner</td>\n      <td>Logged In</td>\n      <td>Gianna</td>\n      <td>F</td>\n      <td>1</td>\n      <td>Jones</td>\n      <td>169.29914</td>\n      <td>free</td>\n      <td>New York-Newark-Jersey City, NY-NJ-PA</td>\n      <td>...</td>\n      <td>1.540870e+12</td>\n      <td>107</td>\n      <td>Frisch und g'sund</td>\n      <td>200</td>\n      <td>1543282717796</td>\n      <td>\"Mozilla/5.0 (Macintosh; Intel Mac OS X 10_9_4...</td>\n      <td>38</td>\n      <td>48</td>\n      <td>Tuesday</td>\n      <td>2018-11-27 01:38:37.796</td>\n    </tr>\n  </tbody>\n</table>\n<p>5 rows × 22 columns</p>\n</div>"
     },
     "execution_count": 17,
     "metadata": {},
     "output_type": "execute_result"
    }
   ],
   "source": [
    "time_df = pd.DataFrame(dict(zip(column_labels, time_data)))\n",
    "time_df.head()\n",
    "df['start_time'] = t\n",
    "df.head()"
   ]
  },
  {
   "cell_type": "markdown",
   "metadata": {},
   "source": [
    "#### Insert Records into Time Table\n",
    "Implement the `time_table_insert` query in `sql_queries.py` and run the cell below to insert records for the timestamps in this log file into the `time` table. Remember to run `create_tables.py` before running the cell below to ensure you've created/resetted the `time` table in the sparkify database."
   ]
  },
  {
   "cell_type": "code",
   "execution_count": 18,
   "metadata": {},
   "outputs": [],
   "source": [
    "for i, row in time_df.iterrows():\n",
    "    cur.execute(time_table_insert, list(row))\n",
    "    conn.commit()"
   ]
  },
  {
   "cell_type": "markdown",
   "metadata": {},
   "source": [
    "Run `test.ipynb` to see if you've successfully added records to this table."
   ]
  },
  {
   "cell_type": "markdown",
   "metadata": {},
   "source": [
    "## #4: `users` Table\n",
    "#### Extract Data for Users Table\n",
    "- Select columns for user ID, first name, last name, gender and level and set to `user_df`"
   ]
  },
  {
   "cell_type": "code",
   "execution_count": 19,
   "metadata": {},
   "outputs": [
    {
     "data": {
      "text/plain": "  userId firstName   lastName gender level\n0     88  Mohammad  Rodriguez      M  paid\n1     88  Mohammad  Rodriguez      M  paid\n2     88  Mohammad  Rodriguez      M  paid\n3     38    Gianna      Jones      F  free\n4     38    Gianna      Jones      F  free",
      "text/html": "<div>\n<style scoped>\n    .dataframe tbody tr th:only-of-type {\n        vertical-align: middle;\n    }\n\n    .dataframe tbody tr th {\n        vertical-align: top;\n    }\n\n    .dataframe thead th {\n        text-align: right;\n    }\n</style>\n<table border=\"1\" class=\"dataframe\">\n  <thead>\n    <tr style=\"text-align: right;\">\n      <th></th>\n      <th>userId</th>\n      <th>firstName</th>\n      <th>lastName</th>\n      <th>gender</th>\n      <th>level</th>\n    </tr>\n  </thead>\n  <tbody>\n    <tr>\n      <th>0</th>\n      <td>88</td>\n      <td>Mohammad</td>\n      <td>Rodriguez</td>\n      <td>M</td>\n      <td>paid</td>\n    </tr>\n    <tr>\n      <th>1</th>\n      <td>88</td>\n      <td>Mohammad</td>\n      <td>Rodriguez</td>\n      <td>M</td>\n      <td>paid</td>\n    </tr>\n    <tr>\n      <th>2</th>\n      <td>88</td>\n      <td>Mohammad</td>\n      <td>Rodriguez</td>\n      <td>M</td>\n      <td>paid</td>\n    </tr>\n    <tr>\n      <th>3</th>\n      <td>38</td>\n      <td>Gianna</td>\n      <td>Jones</td>\n      <td>F</td>\n      <td>free</td>\n    </tr>\n    <tr>\n      <th>4</th>\n      <td>38</td>\n      <td>Gianna</td>\n      <td>Jones</td>\n      <td>F</td>\n      <td>free</td>\n    </tr>\n  </tbody>\n</table>\n</div>"
     },
     "execution_count": 19,
     "metadata": {},
     "output_type": "execute_result"
    }
   ],
   "source": [
    "user_df = df[['userId','firstName', 'lastName', 'gender', 'level']]\n",
    "user_df.head()"
   ]
  },
  {
   "cell_type": "markdown",
   "metadata": {},
   "source": [
    "#### Insert Records into Users Table\n",
    "Implement the `user_table_insert` query in `sql_queries.py` and run the cell below to insert records for the users in this log file into the `users` table. Remember to run `create_tables.py` before running the cell below to ensure you've created/resetted the `users` table in the sparkify database."
   ]
  },
  {
   "cell_type": "code",
   "execution_count": 20,
   "metadata": {},
   "outputs": [],
   "source": [
    "for i, row in user_df.iterrows():\n",
    "    cur.execute(user_table_insert, row)\n",
    "    conn.commit()"
   ]
  },
  {
   "cell_type": "markdown",
   "metadata": {},
   "source": [
    "Run `test.ipynb` to see if you've successfully added records to this table."
   ]
  },
  {
   "cell_type": "markdown",
   "metadata": {},
   "source": [
    "## #5: `songplays` Table\n",
    "#### Extract Data and Songplays Table\n",
    "This one is a little more complicated since information from the songs table, artists table, and original log file are all needed for the `songplays` table. Since the log file does not specify an ID for either the song or the artist, you'll need to get the song ID and artist ID by querying the songs and artists tables to find matches based on song title, artist name, and song duration time.\n",
    "- Implement the `song_select` query in `sql_queries.py` to find the song ID and artist ID based on the title, artist name, and duration of a song.\n",
    "- Select the timestamp, user ID, level, song ID, artist ID, session ID, location, and user agent and set to `songplay_data`\n",
    "\n",
    "#### Insert Records into Songplays Table\n",
    "- Implement the `songplay_table_insert` query and run the cell below to insert records for the songplay actions in this log file into the `songplays` table. Remember to run `create_tables.py` before running the cell below to ensure you've created/resetted the `songplays` table in the sparkify database."
   ]
  },
  {
   "cell_type": "code",
   "execution_count": 21,
   "metadata": {},
   "outputs": [],
   "source": [
    "for index, row in df.iterrows():\n",
    "    # get songid and artistid from song and artist tables\n",
    "    cur.execute(song_select, (row.song, row.artist, row.length))\n",
    "    results = cur.fetchone()\n",
    "\n",
    "    if results:\n",
    "        songid, artistid = results\n",
    "    else:\n",
    "        songid, artistid = None, None\n",
    "\n",
    "    # start_time, user_id, level, song_id, artist_id, session_id, location, user_agent\n",
    "    # insert songplay record\n",
    "    songplay_data = (str(row.start_time),row.userId,row.level,songid,artistid, row.sessionId,row.location,row.userAgent)\n",
    "    cur.execute(songplay_table_insert, songplay_data)\n",
    "    conn.commit()"
   ]
  },
  {
   "cell_type": "markdown",
   "metadata": {},
   "source": [
    "Run `test.ipynb` to see if you've successfully added records to this table."
   ]
  },
  {
   "cell_type": "markdown",
   "metadata": {},
   "source": [
    "# Close Connection to Sparkify Database"
   ]
  },
  {
   "cell_type": "code",
   "execution_count": 22,
   "metadata": {},
   "outputs": [],
   "source": [
    "conn.close()"
   ]
  },
  {
   "cell_type": "markdown",
   "metadata": {},
   "source": [
    "# Implement `etl.py`\n",
    "Use what you've completed in this notebook to implement `etl.py`."
   ]
  },
  {
   "cell_type": "code",
   "execution_count": 22,
   "metadata": {},
   "outputs": [],
   "source": []
  }
 ],
 "metadata": {
  "kernelspec": {
   "display_name": "Python 3",
   "language": "python",
   "name": "python3"
  },
  "language_info": {
   "codemirror_mode": {
    "name": "ipython",
    "version": 3
   },
   "file_extension": ".py",
   "mimetype": "text/x-python",
   "name": "python",
   "nbconvert_exporter": "python",
   "pygments_lexer": "ipython3",
   "version": "3.6.3"
  }
 },
 "nbformat": 4,
 "nbformat_minor": 2
}